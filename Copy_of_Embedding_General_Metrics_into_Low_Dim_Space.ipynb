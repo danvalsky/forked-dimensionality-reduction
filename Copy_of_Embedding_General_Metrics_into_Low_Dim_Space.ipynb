{
  "cells": [
    {
      "cell_type": "markdown",
      "source": [
        "In this tutorial we will run the approxiamtion embedidng algorithm and compare it with other popular embedding methods, while applying it on several data sets.\n",
        "\n",
        "\n"
      ],
      "metadata": {
        "id": "yCgz4TbW0M7L"
      }
    },
    {
      "cell_type": "markdown",
      "metadata": {
        "id": "a_Y0zdK9ofG9"
      },
      "source": [
        "## Setting up \n"
      ]
    },
    {
      "cell_type": "code",
      "execution_count": null,
      "metadata": {
        "id": "VxbQtNB6fWzO"
      },
      "outputs": [],
      "source": [
        "!pip install cvxpy"
      ]
    },
    {
      "cell_type": "code",
      "source": [
        "!pip install pymde"
      ],
      "metadata": {
        "id": "vcy2V7ld1tsY"
      },
      "execution_count": null,
      "outputs": []
    },
    {
      "cell_type": "code",
      "execution_count": null,
      "metadata": {
        "id": "tzzM0xdvofG-"
      },
      "outputs": [],
      "source": [
        "import numpy as np\n",
        "from sklearn.random_projection import GaussianRandomProjection\n",
        "import  scipy\n",
        "import scipy.spatial\n",
        "import math\n",
        "import sys \n",
        "import cvxpy as cp\n",
        "from numpy import linalg as LA"
      ]
    },
    {
      "cell_type": "markdown",
      "metadata": {
        "id": "-484WU9YofHF"
      },
      "source": [
        "## Synthetic non-Euclidean metric space \n",
        "We are setup to experiment with the algorithm. We start with running it on a synthetic data set. \n",
        "\n",
        "In the paper we test our implementation on the synthetically generated data set $X$ of the following form. We first randomly sample $n=100$ vectors, each of dimension $d=100$. This forms a Euclidean metric space. We then add a small random noise to the pairwise distances in such a way that the reuslting distances represent a valid **non-Euclidean** metric space. \n",
        " \n"
      ]
    },
    {
      "cell_type": "code",
      "execution_count": null,
      "metadata": {
        "id": "_n4hkmGq0pT5"
      },
      "outputs": [],
      "source": [
        "import metric_spaces as ms\n",
        "\n",
        "dists_data=ms.get_random_epsilon_close_non_Eucl(100, 0.8)\n",
        "#test for being non-Euclidean\n",
        "print(\"Is X a Euclidean metric?\", ms.is_Euclidean_space(dists_data**2)==True)"
      ]
    },
    {
      "cell_type": "markdown",
      "source": [
        "## Running on MNIST \n",
        "\n",
        "is essentially as applying JL... But, if distances computed with l_1 dist(which makes more sene in imge processing?) then it is different, "
      ],
      "metadata": {
        "id": "t5NDbdJL1MHx"
      }
    },
    {
      "cell_type": "markdown",
      "source": [
        "## Comparing with pymde implementation \n",
        "\n",
        "1. Understand how thier embedding work, what is the algorithm? Does it work on GPU? How they write the code to work on GPU?\n",
        "\n",
        "2. Just run theirs and ours on several data sets, and see what it gives.\n",
        "\n",
        "3. Speed up our algo:  a) write on pytorch tensors? \n",
        "                       b) use cvxpy lyers package?\n",
        "                       c) just write the solver by myself? recall the convex opt theory and all this backprop algo. \n",
        "                       d) maybe vxpy can be mannualy rewritten to work with pytorch tensors? search for these things.\n",
        "\n",
        "\n",
        "4. Make a formal package out of this, just for fun. Upload it. Write correct documentation, as you read. \n"
      ],
      "metadata": {
        "id": "4IKbLWmL1PVj"
      }
    },
    {
      "cell_type": "code",
      "source": [
        "pip install ipyopt"
      ],
      "metadata": {
        "id": "x4_fpGA5t8NY"
      },
      "execution_count": null,
      "outputs": []
    },
    {
      "cell_type": "code",
      "source": [],
      "metadata": {
        "id": "8G3BoSBwuKfB"
      },
      "execution_count": null,
      "outputs": []
    },
    {
      "cell_type": "code",
      "source": [
        "import pymde\n",
        "import distortion_measures as dm\n",
        "import torch \n",
        "import approx_algo as aa\n",
        "\n",
        "q=2\n",
        "k=3\n",
        "\n",
        "\n",
        "\n",
        "dists_data=ms.get_random_epsilon_close_non_Eucl(20,0.8)\n",
        "input=pymde.Graph(dists_data)\n",
        "embedding=pymde.preserve_distances(input, k)\n",
        "#print(embedding)\n",
        "result=embedding.embed().numpy()\n",
        "\n",
        "result_dists=ms.space_to_dist(result)\n",
        "their_distort=dm.lq_dist(dists_data, result_dists, q)\n",
        "print(their_distort)\n",
        "\n",
        "vectors=aa.Approx_Algo(dists_data, k,q)\n",
        "embedded_dsits=ms.space_to_dist(vectors)\n",
        "our_distort=dm.lq_dist(dists_data, embedded_dsits, q)\n",
        "print(our_distort)\n"
      ],
      "metadata": {
        "id": "yh2EN9KV2DEo",
        "colab": {
          "base_uri": "https://localhost:8080/"
        },
        "outputId": "12adf0df-0b0e-4ef3-f27c-35861b4bd000"
      },
      "execution_count": null,
      "outputs": [
        {
          "output_type": "stream",
          "name": "stdout",
          "text": [
            "1.2771967602305816\n",
            "Solving the cvxpy problem ...\n",
            "The problem has been solved, continuing to the RP step\n",
            "2.0421084565590917\n"
          ]
        }
      ]
    },
    {
      "cell_type": "markdown",
      "source": [
        "## Implementing Approx_algo with the pytorch functionality"
      ],
      "metadata": {
        "id": "6SHGMqwB1YvY"
      }
    }
  ],
  "metadata": {
    "colab": {
      "collapsed_sections": [],
      "name": "Copy of Embedding General Metrics into Low Dim Space.ipynb",
      "provenance": []
    },
    "kernelspec": {
      "display_name": "Python 3",
      "language": "python",
      "name": "python3"
    },
    "language_info": {
      "codemirror_mode": {
        "name": "ipython",
        "version": 3
      },
      "file_extension": ".py",
      "mimetype": "text/x-python",
      "name": "python",
      "nbconvert_exporter": "python",
      "pygments_lexer": "ipython3",
      "version": "3.7.3"
    },
    "accelerator": "GPU",
    "gpuClass": "standard"
  },
  "nbformat": 4,
  "nbformat_minor": 0
}