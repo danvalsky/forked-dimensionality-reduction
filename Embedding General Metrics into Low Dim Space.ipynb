{
 "cells": [
  {
   "cell_type": "markdown",
   "metadata": {
    "id": "a_Y0zdK9ofG9"
   },
   "source": [
    "## Setting up \n",
    "\n",
    "To run the code in colab, mount the drive and install cvxpy package."
   ]
  },
  {
   "cell_type": "code",
   "execution_count": null,
   "metadata": {
    "id": "VxbQtNB6fWzO"
   },
   "outputs": [],
   "source": [
    "from google.colab import drive\n",
    "drive.mount('/content/drive')\n",
    "%pip install cvxpy"
   ]
  },
  {
   "cell_type": "code",
   "execution_count": null,
   "metadata": {
    "id": "tzzM0xdvofG-"
   },
   "outputs": [],
   "source": [
    "import numpy as np\n",
    "from sklearn.random_projection import GaussianRandomProjection\n",
    "import  scipy\n",
    "import scipy.spatial\n",
    "import math\n",
    "import sys\n",
    "import cvxpy as cp\n",
    "from numpy import linalg as LA\n",
    "\n",
    "import Distortion_Measures as DM\n",
    "\n",
    "\n"
   ]
  },
  {
   "cell_type": "markdown",
   "metadata": {
    "id": "RNL-WWMdofHA"
   },
   "source": [
    "## Setting up the random projection method\n",
    "We use the projection matrix with the i.i.d. Gaussian entries. The input is the metric space, given as the matrix of hig-dimesnioal vectors in the rows, and the traget dimension $k$. The ouput is the $k$ - dimensional representation of the input space, stored as the rows in the output matrix.\n"
   ]
  },
  {
   "cell_type": "code",
   "execution_count": null,
   "metadata": {
    "id": "Ehn_v4I9ofHA"
   },
   "outputs": [],
   "source": [
    "def JL_transf(space, k):\n",
    "    transformer = GaussianRandomProjection(k)\n",
    "    result=transformer.fit_transform(space)\n",
    "    return(result)\n"
   ]
  },
  {
   "cell_type": "markdown",
   "metadata": {
    "id": "ICYWwfXYofHD"
   },
   "source": [
    "## Approximation algorithm\n",
    "\n",
    "\n",
    "**Input:** a metric space on $n$ points, given as a matrix of pairwise Euclidean distances; a traget dimension $k \\geq 3$; parameter $q$ desribing the moment of the distorin to be approximated. \n",
    "\n",
    "**Output:** the set of $k$-dimensional vectors, such that their pairwise Euclidean distances are preserved up to a small multiplicative error, on average. I.e., an embedding of the input distances into $k$-dimensions with near optimal $l_q$-distortion.\n"
   ]
  },
  {
   "cell_type": "code",
   "execution_count": null,
   "metadata": {
    "id": "Ilh4bPj5ofHE"
   },
   "outputs": [],
   "source": [
    "def Approx_Algo(input_dists, new_dim, q):\n",
    "    [rows, cols]=input_dists.shape\n",
    "    #Step1: convex optimization, using the implementation in package cvxpy.\n",
    "\n",
    "    #Normalize the input metric by the largest dsiatnce (this should not change the optimal embedding,\n",
    "    #but this helps to speed up the computations and make them more precise).\n",
    "    max_dist=np.amax(input_dists)\n",
    "    div_input_dists=np.divide(input_dists, max_dist)\n",
    "\n",
    "    G=cp.Variable((rows-1,rows-1), PSD=True)\n",
    "\n",
    "    #Z i sthe matrix of the new dists, squared\n",
    "    Z=cp.Variable((rows,rows),symmetric=True)\n",
    "\n",
    "    #E is the matrix of expansions, squared\n",
    "    E=cp.Variable((rows, rows), symmetric=True)\n",
    "\n",
    "    #C is the matrix of contractions, squared\n",
    "    C=cp.Variable((rows, cols), symmetric=True)\n",
    "    C=cp.inv_pos(E)\n",
    "\n",
    "    #M is the matrix of distortions, squared\n",
    "    M=cp.Variable((rows, cols),symmetric=True)\n",
    "    M=cp.maximum(E, C)\n",
    "\n",
    "\n",
    "    one=cp.Parameter()\n",
    "    one.value=1\n",
    "\n",
    "    #the constraints describe the convex boundary set\n",
    "    constraints=[]\n",
    "    for j in range(1,rows):\n",
    "        constraints=constraints+[Z[0,j]==G[j-1,j-1]]\n",
    "\n",
    "    for i in range(1, rows):\n",
    "        for j in range(i+1,rows):\n",
    "            constraints=constraints+[Z[i,j]==G[i-1,i-1]+G[j-1,j-1]-2*G[i-1,j-1]]\n",
    "\n",
    "    for i in range(rows):\n",
    "        for j in range(i+1,rows):\n",
    "            constraints=constraints+[Z[i,j]>=0]\n",
    "\n",
    "    for i in range(rows):\n",
    "            constraints=constraints+[E[i,i]==one]\n",
    "\n",
    "\n",
    "    for i in range (rows):\n",
    "        for j in range (i+1, rows):\n",
    "            constraints=constraints+[Z[i,j]==E[i,j]*(div_input_dists[i,j]**2)]\n",
    "\n",
    "\n",
    "    #The optimization objective function is l_q-distortion.\n",
    "    prob=cp.Problem(cp.Minimize(cp.Pnorm(M, p=q/2)),constraints)\n",
    "    prob.solve(verbose=True)\n",
    "    \n",
    "    #After the optimization step, the matrix G contains the optimal pairwise Euclidean distances\n",
    "    #approximating original pairwise distances. \n",
    "\n",
    "    #Recovering the resulting vectors of the embedding from the distances, by computing eigenvalue decomposition of G.\n",
    "    eig_vals, eig_vectors=np.linalg.eigh(G.value)\n",
    "    num_eigs=len(eig_vals)\n",
    "    sqrt_eigs=np.sqrt(eig_vals)\n",
    "    D_matrix=np.diag(sqrt_eigs)\n",
    "    \n",
    "    #The rows of U should be the orthonormal basis of the eig_vectors.\n",
    "    U_matrix=np.transpose(eig_vectors)\n",
    "    the_vectors=np.matmul(D_matrix, U_matrix)\n",
    "\n",
    "    #The original vectors are the cols of the above matrix.\n",
    "    recov_vecs=np.transpose(the_vectors)\n",
    "\n",
    "    #The assumption is that the first vector is mapped to 0 vector. So we bring it back.\n",
    "    vectors=np.vstack([recov_vecs, np.zeros(np.shape(recov_vectors)[1])])\n",
    "   \n",
    "\n",
    "    #Note:  We could use the Cholesky decomposition of python,\n",
    "    #but there are floating point issues, so we implemented our own decomposition.\n",
    "\n",
    "    #Step 2: embed the high dimimensional vectors into vectors of dimension new_dim, with the JL projection.\n",
    "    #Output is the set of k-dimensional vectors.\n",
    " \n",
    "\n",
    "    low_dim_space=JL_transf(vectors, new_dim)\n",
    "\n",
    "    #Bring the normalization factor back.\n",
    "    real_low_dim_space=low_dim_space*max_dist\n",
    "    return(real_low_dim_space);\n"
   ]
  },
  {
   "cell_type": "markdown",
   "metadata": {
    "id": "-484WU9YofHF"
   },
   "source": [
    "## Generating random non-Euclidean metric spaces and Evaluation functions \n",
    "\n",
    "In the papaer we test our implementation on the synthetically generated data set $X$ of the following form. We first randomly sample $n=100$ vectors, each of dimension $d=100$. This forms a Euclidean metric space. We then add a small random noise to the pairwise distances in such a way that the reuslting distances represent a valid **non-Euclidean** metric space. \n",
    " \n"
   ]
  },
  {
   "cell_type": "code",
   "execution_count": 1,
   "metadata": {
    "id": "nAhOjlJ9x4x4"
   },
   "outputs": [],
   "source": [
    "#Retruns a randomly generated vector space, of size and dimesnion dim, as numpy 2D array\n",
    "def get_random_space(size, dim):\n",
    "    space=np.random.randn(size, dim)\n",
    "    for i in range(size):\n",
    "        sdv=np.random.randint(1,30)\n",
    "        space[i]=sdv*space[i]\n",
    "    return(space);\n"
   ]
  },
  {
   "cell_type": "markdown",
   "metadata": {
    "id": "gDY-CwkDzbGx"
   },
   "source": [
    "We also need a function that computes the pairwise distances of a given metic space: "
   ]
  },
  {
   "cell_type": "code",
   "execution_count": null,
   "metadata": {
    "id": "WTZ9qjCjzlGO"
   },
   "outputs": [],
   "source": [
    "def space_to_dist(space):\n",
    "    dist=scipy.spatial.distance.pdist(space,metric='euclidean')\n",
    "    matrix_dist=scipy.spatial.distance.squareform(dist)\n",
    "    return (matrix_dist);"
   ]
  },
  {
   "cell_type": "code",
   "execution_count": null,
   "metadata": {
    "id": "ZE1MdYsWyEGx"
   },
   "outputs": [],
   "source": [
    "\n",
    "\"\"\" Generates a metric space that is \"epsilon-far\" from a given space. \n",
    "\n",
    "Input: distance matrix of a given metric space, numpy 2D array. Output: distance matrix, numpy 2D array\n",
    "The resulting metric space itself is not Euclidean. The algorithm is randomized and it always outputs the metric space.\n",
    "There is some small probability that the output space is still Euclidean space (if the input space was Euclidean). \n",
    "To reduce this probability we run the algorithm for several iterations (#iter.)\n",
    "\n",
    "NOTE: for some runs, the result of is_metric_space(output) can result in False, due to rounding issues. \"\"\"\n",
    "\n",
    "\n",
    "def get_epsilon_far_metric(dists_matrix, epsilon, iter):\n",
    "    copy_dists_matrix=np.copy(dists_matrix)\n",
    "    [rows, cols]=dists_matrix.shape\n",
    "\n",
    "    #COMMENTS: the distorted metric space\n",
    "    generated_metric_dists=np.zeros((rows, cols))\n",
    "    for i in range(rows):\n",
    "        for j in range(i+1, rows):\n",
    "            lower_range=[]\n",
    "            upper_range=[]\n",
    "            for k in range(rows):\n",
    "                if (k!=i and k!=j):\n",
    "                    min_z=min(copy_dists_matrix[i,k], copy_dists_matrix[j,k])\n",
    "                    max_z=max(copy_dists_matrix[i,k], copy_dists_matrix[j,k])\n",
    "                    lower_range.append(max_z-min_z)\n",
    "                    upper_range.append(max_z+min_z)\n",
    "                    continue\n",
    "            lower_array=np.array(lower_range)\n",
    "            upper_array=np.array(upper_range)\n",
    "            min_new=np.amax(lower_range)\n",
    "            max_new=np.amin(upper_range)\n",
    "            r=copy_dists_matrix[i,j]\n",
    "            Finish=False\n",
    "            possible_new_dists=[]\n",
    "            for t in range(iter):\n",
    "                noise=np.random.normal(0, epsilon)\n",
    "                if (noise>=0):\n",
    "                    factor=1+noise\n",
    "                else:\n",
    "                    factor=1/(1-noise)\n",
    "                r_new=factor*r\n",
    "                if (r_new>=min_new and r_new<=max_new):\n",
    "                    Finish=True\n",
    "                    possible_new_dists.append(r_new)\n",
    "            if(Finish==True):\n",
    "                new_dist=possible_new_dists[0]\n",
    "            else:\n",
    "                new_dist=min_new\n",
    "            generated_metric_dists[i,j]=new_dist\n",
    "            generated_metric_dists[j,i]=new_dist\n",
    "            copy_dists_matrix[i,j]=new_dist\n",
    "            copy_dists_matrix[j,i]=new_dist\n",
    "    return(generated_metric_dists)\n",
    "\n",
    "\n"
   ]
  },
  {
   "cell_type": "markdown",
   "metadata": {
    "id": "sPiKliHAzCy_"
   },
   "source": [
    "In the next code we just run the above piece as a subrutine, until we get the desured non-Euclidean metric space. We need a function that checks whether a given metric space is a Euclidean space:"
   ]
  },
  {
   "cell_type": "code",
   "execution_count": null,
   "metadata": {
    "id": "mRhbUY50z3jq"
   },
   "outputs": [],
   "source": [
    "#input: squared dists of the metric space\n",
    "def is_Euclidean_space(sq_dists):\n",
    "    #assuming the dists_space is of a metric space of size=n\n",
    "    [rows,cols]=sq_dists.shape\n",
    "    G_matrix=np.zeros((rows, cols))\n",
    "    for i in range(1,rows):\n",
    "        for j in range(1,cols):\n",
    "            G_matrix[i,j]=(1/2)*(sq_dists[0,i]+sq_dists[0,j]-sq_dists[i,j])\n",
    "    G_row_del=np.delete(G_matrix,0,0)\n",
    "    final_matrix=np.delete(G_row_del,0,1)\n",
    "    answer=is_pos_def(final_matrix)\n",
    "    return(answer);\n",
    "\n",
    "def is_pos_def(X):\n",
    "    return (np.all(np.linalg.eigvalsh(X) >= 0));    "
   ]
  },
  {
   "cell_type": "code",
   "execution_count": null,
   "metadata": {
    "id": "rZ5HU118y-72"
   },
   "outputs": [],
   "source": [
    "#COMMENTS: from our random space, loop the above code until you get a non-Euclidean result\n",
    "def get_random_epsilon_far_non_Eucl(n, epsilon):\n",
    "    original=get_random_space(n,n)\n",
    "    original_Eucl_dists=space_to_dist(original)\n",
    "    distorted_dists=get_epsilon_far_metric(original_Eucl_dists, epsilon, 5)\n",
    "    while(is_Euclidean_space(distorted_dists**2)==True):\n",
    "        original=get_random_space(n,n)\n",
    "        original_Eucl_dists=space_to_dist(original)\n",
    "        distorted_dists=get_epsilon_far_metric(original_Eucl_dists, epsilon, 2)\n",
    "    return(distorted_dists)"
   ]
  },
  {
   "cell_type": "markdown",
   "metadata": {
    "id": "brKIEXu6x7Z-"
   },
   "source": [
    "We are now ready to generate the smaple non-Euclidean metric space $X$, of size $n=100$\n"
   ]
  },
  {
   "cell_type": "code",
   "execution_count": null,
   "metadata": {
    "colab": {
     "base_uri": "https://localhost:8080/"
    },
    "executionInfo": {
     "elapsed": 1260,
     "status": "ok",
     "timestamp": 1658822935620,
     "user": {
      "displayName": "Ora Nova Fandina",
      "userId": "12575658531239796228"
     },
     "user_tz": -120
    },
    "id": "_n4hkmGq0pT5",
    "outputId": "19fa58ad-f970-4cdc-abce-d8af30c659a9"
   },
   "outputs": [
    {
     "name": "stdout",
     "output_type": "stream",
     "text": [
      "Is X a Euclidean metric? False\n"
     ]
    }
   ],
   "source": [
    "X=get_random_epsilon_far_non_Eucl(100, 0.8)\n",
    "#test for being non-Euclidean\n",
    "print(\"Is X a Euclidean metric?\", is_Euclidean_space(X**2)==True)"
   ]
  },
  {
   "cell_type": "markdown",
   "metadata": {
    "id": "7SeIjt8k2PGD"
   },
   "source": [
    "Various average distortion measure functions are implemented in Distortion_Measures.py file. For example, $l_q$-distortion, $REM_q$-distortion among others."
   ]
  },
  {
   "cell_type": "markdown",
   "metadata": {
    "id": "92VJDvLkEmyS"
   },
   "source": [
    "Now you are set up to play with the data and the algorithm! Enjoy!"
   ]
  },
  {
   "cell_type": "code",
   "execution_count": null,
   "metadata": {
    "id": "VJV2E78oEuTE"
   },
   "outputs": [],
   "source": [
    "def test_Approx_Algo():\n",
    "  \"Your code for testing\"\n",
    "  return "
   ]
  }
 ],
 "metadata": {
  "colab": {
   "collapsed_sections": [],
   "name": "Embedding General Metrics into Low Dim Space.ipynb",
   "provenance": []
  },
  "kernelspec": {
   "display_name": "Python 3",
   "language": "python",
   "name": "python3"
  },
  "language_info": {
   "codemirror_mode": {
    "name": "ipython",
    "version": 3
   },
   "file_extension": ".py",
   "mimetype": "text/x-python",
   "name": "python",
   "nbconvert_exporter": "python",
   "pygments_lexer": "ipython3",
   "version": "3.7.3"
  }
 },
 "nbformat": 4,
 "nbformat_minor": 1
}
